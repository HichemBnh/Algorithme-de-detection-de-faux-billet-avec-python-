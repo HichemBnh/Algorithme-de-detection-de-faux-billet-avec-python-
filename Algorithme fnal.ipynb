{
 "cells": [
  {
   "cell_type": "markdown",
   "id": "fba8802b",
   "metadata": {
    "toc": true
   },
   "source": [
    "<h1>Table of Contents<span class=\"tocSkip\"></span></h1>\n",
    "<div class=\"toc\"><ul class=\"toc-item\"><li><span><a href=\"#Fonction-finale-de-détection-de-faux-billets\" data-toc-modified-id=\"Fonction-finale-de-détection-de-faux-billets-1\"><span class=\"toc-item-num\">1&nbsp;&nbsp;</span>Fonction finale de détection de faux billets</a></span></li><li><span><a href=\"#Application-de-la-fonction\" data-toc-modified-id=\"Application-de-la-fonction-2\"><span class=\"toc-item-num\">2&nbsp;&nbsp;</span>Application de la fonction</a></span></li></ul></div>"
   ]
  },
  {
   "cell_type": "markdown",
   "id": "60977fed",
   "metadata": {},
   "source": [
    "# Fonction finale de détection de faux billets"
   ]
  },
  {
   "cell_type": "code",
   "execution_count": 2,
   "id": "deea19c8",
   "metadata": {},
   "outputs": [],
   "source": [
    "import pandas as pd\n",
    "from my_fonction import load_pickle\n",
    "\n",
    "def predict_is_genuine(df):\n",
    "    \n",
    "    #upload du model et threshold\n",
    "    reg_log_final =load_pickle('model.pkl')\n",
    "    threshold = load_pickle('threshold.pkl')\n",
    "    \n",
    "   \n",
    "    #upload du df\n",
    "    df= pd.read_csv(f'csv/{df}.csv')\n",
    "    Id = df.id\n",
    "    df= df.drop('id', axis= 1)\n",
    "    \n",
    "    #création des colonnes : probabilité faux, probabilité vrai\n",
    "    df['Prob_False'] =  round(reg_log_final.predict(df), 4)*100\n",
    "    df['Prob_True'] = round(abs(1-reg_log_final.predict(df)),4)*100\n",
    "    df['id'] = Id\n",
    "    df = df.set_index('id')\n",
    "       \n",
    "    # appllication du seuil minimum\n",
    "    df['genuine']  = (abs(1-reg_log_final.predict(df)) >= threshold ).astype(bool)\n",
    "    \n",
    "    \n",
    "    #Renvoi du résultat final\n",
    "    \n",
    "    print(f\"\"\"\\n* Algorithme de prédiction de faux billet : \n",
    "    \\n\\tThreshold appliqué : {round(threshold, 2)}\n",
    "    \\n\\tTeste sur: {df['genuine'].shape[0]} Billets : {df['genuine'].index.tolist()}\n",
    "    \\n\\n* Résultats: \n",
    "    \\n\\t{df['genuine'].sum()} vrais : {df[df['genuine']== True].index.tolist()}\n",
    "          \\n\\t{df['genuine'].shape[0]-df['genuine'].sum()} faux : {df[df['genuine']== False].index.tolist()}\n",
    "          \"\"\")\n",
    "    \n",
    "    return df  "
   ]
  },
  {
   "cell_type": "markdown",
   "id": "f730f980",
   "metadata": {},
   "source": [
    "# Application de la fonction"
   ]
  },
  {
   "cell_type": "markdown",
   "id": "a0922314",
   "metadata": {},
   "source": [
    "La fonction prend en argument le nom du fichier comme dans l'exemple ci-dessous"
   ]
  },
  {
   "cell_type": "code",
   "execution_count": 3,
   "id": "bb41929f",
   "metadata": {},
   "outputs": [
    {
     "name": "stdout",
     "output_type": "stream",
     "text": [
      "\n",
      "* Algorithme de prédiction de faux billet : \n",
      "    \n",
      "\tThreshold appliqué : 0.67\n",
      "    \n",
      "\tTeste sur: 5 Billets : ['A_1', 'A_2', 'A_3', 'A_4', 'A_5']\n",
      "    \n",
      "\n",
      "* Résultats: \n",
      "    \n",
      "\t2 vrais : ['A_4', 'A_5']\n",
      "          \n",
      "\t3 faux : ['A_1', 'A_2', 'A_3']\n",
      "          \n"
     ]
    },
    {
     "data": {
      "text/html": [
       "<div>\n",
       "<style scoped>\n",
       "    .dataframe tbody tr th:only-of-type {\n",
       "        vertical-align: middle;\n",
       "    }\n",
       "\n",
       "    .dataframe tbody tr th {\n",
       "        vertical-align: top;\n",
       "    }\n",
       "\n",
       "    .dataframe thead th {\n",
       "        text-align: right;\n",
       "    }\n",
       "</style>\n",
       "<table border=\"1\" class=\"dataframe\">\n",
       "  <thead>\n",
       "    <tr style=\"text-align: right;\">\n",
       "      <th></th>\n",
       "      <th>diagonal</th>\n",
       "      <th>height_left</th>\n",
       "      <th>height_right</th>\n",
       "      <th>margin_low</th>\n",
       "      <th>margin_up</th>\n",
       "      <th>length</th>\n",
       "      <th>Prob_False</th>\n",
       "      <th>Prob_True</th>\n",
       "      <th>genuine</th>\n",
       "    </tr>\n",
       "    <tr>\n",
       "      <th>id</th>\n",
       "      <th></th>\n",
       "      <th></th>\n",
       "      <th></th>\n",
       "      <th></th>\n",
       "      <th></th>\n",
       "      <th></th>\n",
       "      <th></th>\n",
       "      <th></th>\n",
       "      <th></th>\n",
       "    </tr>\n",
       "  </thead>\n",
       "  <tbody>\n",
       "    <tr>\n",
       "      <th>A_1</th>\n",
       "      <td>171.76</td>\n",
       "      <td>104.01</td>\n",
       "      <td>103.54</td>\n",
       "      <td>5.21</td>\n",
       "      <td>3.30</td>\n",
       "      <td>111.42</td>\n",
       "      <td>100.00</td>\n",
       "      <td>0.00</td>\n",
       "      <td>False</td>\n",
       "    </tr>\n",
       "    <tr>\n",
       "      <th>A_2</th>\n",
       "      <td>171.87</td>\n",
       "      <td>104.17</td>\n",
       "      <td>104.13</td>\n",
       "      <td>6.00</td>\n",
       "      <td>3.31</td>\n",
       "      <td>112.09</td>\n",
       "      <td>100.00</td>\n",
       "      <td>0.00</td>\n",
       "      <td>False</td>\n",
       "    </tr>\n",
       "    <tr>\n",
       "      <th>A_3</th>\n",
       "      <td>172.00</td>\n",
       "      <td>104.58</td>\n",
       "      <td>104.29</td>\n",
       "      <td>4.99</td>\n",
       "      <td>3.39</td>\n",
       "      <td>111.57</td>\n",
       "      <td>100.00</td>\n",
       "      <td>0.00</td>\n",
       "      <td>False</td>\n",
       "    </tr>\n",
       "    <tr>\n",
       "      <th>A_4</th>\n",
       "      <td>172.49</td>\n",
       "      <td>104.55</td>\n",
       "      <td>104.34</td>\n",
       "      <td>4.44</td>\n",
       "      <td>3.03</td>\n",
       "      <td>113.20</td>\n",
       "      <td>0.09</td>\n",
       "      <td>99.91</td>\n",
       "      <td>True</td>\n",
       "    </tr>\n",
       "    <tr>\n",
       "      <th>A_5</th>\n",
       "      <td>171.65</td>\n",
       "      <td>103.63</td>\n",
       "      <td>103.56</td>\n",
       "      <td>3.77</td>\n",
       "      <td>3.16</td>\n",
       "      <td>113.33</td>\n",
       "      <td>0.00</td>\n",
       "      <td>100.00</td>\n",
       "      <td>True</td>\n",
       "    </tr>\n",
       "  </tbody>\n",
       "</table>\n",
       "</div>"
      ],
      "text/plain": [
       "     diagonal  height_left  height_right  margin_low  margin_up  length  \\\n",
       "id                                                                        \n",
       "A_1    171.76       104.01        103.54        5.21       3.30  111.42   \n",
       "A_2    171.87       104.17        104.13        6.00       3.31  112.09   \n",
       "A_3    172.00       104.58        104.29        4.99       3.39  111.57   \n",
       "A_4    172.49       104.55        104.34        4.44       3.03  113.20   \n",
       "A_5    171.65       103.63        103.56        3.77       3.16  113.33   \n",
       "\n",
       "     Prob_False  Prob_True  genuine  \n",
       "id                                   \n",
       "A_1      100.00       0.00    False  \n",
       "A_2      100.00       0.00    False  \n",
       "A_3      100.00       0.00    False  \n",
       "A_4        0.09      99.91     True  \n",
       "A_5        0.00     100.00     True  "
      ]
     },
     "execution_count": 3,
     "metadata": {},
     "output_type": "execute_result"
    }
   ],
   "source": [
    "predict_is_genuine('billets_production')"
   ]
  },
  {
   "cell_type": "code",
   "execution_count": null,
   "id": "c04e8b4a",
   "metadata": {},
   "outputs": [],
   "source": []
  }
 ],
 "metadata": {
  "hide_input": false,
  "kernelspec": {
   "display_name": "Python 3 (ipykernel)",
   "language": "python",
   "name": "python3"
  },
  "language_info": {
   "codemirror_mode": {
    "name": "ipython",
    "version": 3
   },
   "file_extension": ".py",
   "mimetype": "text/x-python",
   "name": "python",
   "nbconvert_exporter": "python",
   "pygments_lexer": "ipython3",
   "version": "3.10.5"
  },
  "nbTranslate": {
   "displayLangs": [
    "*"
   ],
   "hotkey": "alt-t",
   "langInMainMenu": true,
   "sourceLang": "en",
   "targetLang": "fr",
   "useGoogleTranslate": true
  },
  "toc": {
   "base_numbering": 1,
   "nav_menu": {},
   "number_sections": true,
   "sideBar": true,
   "skip_h1_title": false,
   "title_cell": "Table of Contents",
   "title_sidebar": "Contents",
   "toc_cell": true,
   "toc_position": {},
   "toc_section_display": true,
   "toc_window_display": false
  }
 },
 "nbformat": 4,
 "nbformat_minor": 5
}
